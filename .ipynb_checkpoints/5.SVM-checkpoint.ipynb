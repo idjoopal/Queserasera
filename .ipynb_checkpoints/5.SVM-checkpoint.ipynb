{
 "cells": [
  {
   "cell_type": "markdown",
   "metadata": {},
   "source": [
    "# 5. SVM\n",
    "- 선형이나 비선형 분류, 회귀 이상치 탐색에도 사용할 수 있는 다목적 머신러닝 모델\n",
    "\n",
    "## 5.1 선형 SVM분류\n",
    "- 결정경계가 Train 샘플에서 가능한한 가장 거리가 먼 것을 고른다.\n",
    "- 라지 마진 분류라고도 한다.\n",
    "- 경계에 위치한 데이터를 Support Vector라고 한다.\n",
    "\n",
    "### 5.1.1 소프트,하드 마진분류\n",
    "- 선형적으로 구분짓기 힘든 이상치가 존재하면 하드 마진 분류\n",
    "- 이상치를 어느정도 허용하는 것이 소프트 마진 분류\n",
    "- HyperParameter C를 조절할 수 있으며, 작을 수록 마진이 넓고 일반화가 더 잘되는 대신, 마진 오류가 높다.\n",
    "\n",
    "## 5.2 비선형 SVM분류\n",
    "- 선형으로 구분할 수 없는 데이터셋에 대해 특성을 추가 하여 선형으로 구분할 수 있도록 한다.\n",
    "- PolynomialFeatures변환기를 사용하여 이를 구현할 수 있다."
   ]
  },
  {
   "cell_type": "code",
   "execution_count": 4,
   "metadata": {},
   "outputs": [
    {
     "data": {
      "image/png": "[encoded data removed]",
      "text/plain": [
       "<Figure size 432x288 with 1 Axes>"
      ]
     },
     "metadata": {
      "needs_background": "light"
     },
     "output_type": "display_data"
    }
   ],
   "source": [
    "from sklearn.datasets import make_moons\n",
    "X, y = make_moons(n_samples=100, noise=0.15, random_state=42)\n",
    "\n",
    "def plot_dataset(X, y, axes):\n",
    "    plt.plot(X[:, 0][y==0], X[:, 1][y==0], \"bs\")\n",
    "    plt.plot(X[:, 0][y==1], X[:, 1][y==1], \"g^\")\n",
    "    plt.axis(axes)\n",
    "    plt.grid(True, which='both')\n",
    "    plt.xlabel(r\"$x_1$\", fontsize=20)\n",
    "    plt.ylabel(r\"$x_2$\", fontsize=20, rotation=0)\n",
    "\n",
    "plot_dataset(X, y, [-1.5, 2.5, -1, 1.5])\n",
    "plt.show()"
   ]
  },
  {
   "cell_type": "code",
   "execution_count": null,
   "metadata": {},
   "outputs": [],
   "source": []
  }
 ],
 "metadata": {
  "kernelspec": {
   "display_name": "Python 3",
   "language": "python",
   "name": "python3"
  },
  "language_info": {
   "codemirror_mode": {
    "name": "ipython",
    "version": 3
   },
   "file_extension": ".py",
   "mimetype": "text/x-python",
   "name": "python",
   "nbconvert_exporter": "python",
   "pygments_lexer": "ipython3",
   "version": "3.7.4"
  }
 },
 "nbformat": 4,
 "nbformat_minor": 4
}
